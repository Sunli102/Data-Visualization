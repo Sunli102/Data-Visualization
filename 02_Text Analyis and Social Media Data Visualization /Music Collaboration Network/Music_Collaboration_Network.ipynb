{
 "cells": [
  {
   "cell_type": "markdown",
   "metadata": {},
   "source": [
    "Project 4\n",
    "    Question 3 (Figure 3) \n",
    "    \n",
    "    Create a music collaboration network visualization using Plotly.  \n",
    "a. Select 10 singers/musicians. For each musician, identify at least two collaborators and the songs they collaborated on. The more artists you include in your visualization the better. \n",
    "    For example, Drake collaborated with Rihanna on “Work” and “What’s My Name?”, with Lil Wayne on “She Will”, etc. \n",
    "\n",
    "b.Create a network visualization of the collaborations. \n",
    "    i. Each node represents a musician with the name of the musician displayed. \n",
    "    ii.Each edge represents a collaboration between two musicians. The name of the song should be displayed next to the edge.  \n",
    "    iii.If more than two musicians collaborated in a project, each musician should be connected to every other musician. \n",
    "    iv. If two musicians collaborate more than once, create multiple edges between them.  \n",
    "    v. Pictures are optional. \n",
    "    vi. Here is an example of Jazz music collaboration network visualization: https://linkedjazz.org/network/\n",
    "\n",
    "c. Create THREE visualizations with three different layout algorithms. \n",
    "d. Find musicians, songs, and their collaborators at https://www.billboard.com/charts/artist-100. Click on an artist and look at his/her Chart History. Or use your own source of information. \n",
    "\n"
   ]
  },
  {
   "cell_type": "code",
   "execution_count": 25,
   "metadata": {},
   "outputs": [],
   "source": [
    "import plotly.plotly as py\n",
    "import networkx as nx\n",
    "import pandas as pd\n",
    "\n",
    "df = pd.read_csv('~lisun/GSU/2019 Summer/Data Visualization/Project4/Question3/MusicianAndCollebrationList.csv',\\\n",
    "                 encoding = \"ISO-8859-1\")\n",
    "df = df.dropna()\n",
    "\n",
    "G=nx.Graph()  #  G is an empty Graph\n",
    "\n",
    "my_nodes=pd.concat([df['ID_Musician'],df['ID_Collaboration']]).unique()\n",
    "G.add_nodes_from(my_nodes)\n",
    "\n",
    "my_edges=list(zip(df['ID_Musician'],df['ID_Collaboration']))\n",
    "my_edges\n",
    "G.add_edges_from(my_edges, labels = df['Song_Name'])\n",
    "\n",
    "def make_fig(pos, df, title):\n",
    "    labels=pd.concat([df['Musician'],df['Collaboration']]).unique()\n",
    "\n",
    "    Xn=[pos[k][0] for k in pos.keys()]\n",
    "    Yn=[pos[k][1] for k in pos.keys()]\n",
    "\n",
    "\n",
    "    trace_nodes=dict(type='scatter',\n",
    "                 x=Xn, \n",
    "                 y=Yn,\n",
    "                 mode='markers',\n",
    "                 marker=dict(size=10, color='rgb(0,0,255)'),\n",
    "                 text=labels,\n",
    "                 hoverinfo='text')\n",
    "\n",
    "    Xe=[]\n",
    "    Ye=[]\n",
    "    Xm=[]\n",
    "    Ym=[]\n",
    "    for e in G.edges():\n",
    "        Xe.extend([pos[e[0]][0], pos[e[1]][0], None])\n",
    "        Ye.extend([pos[e[0]][1], pos[e[1]][1], None])\n",
    "        mid_edge = (pos[e[0]]+pos[e[1]])/2   # calculate the midpoint of each edge\n",
    "        Xm.append(mid_edge[0])\n",
    "        Ym.append(mid_edge[1])\n",
    "\n",
    "\n",
    "    trace_edges=dict(type='scatter',\n",
    "                     mode='lines',\n",
    "                     x=Xe,\n",
    "                     y=Ye,\n",
    "                     line=dict(width=1, color='rgb(25,25,25)'),\n",
    "                     hoverinfo= 'none' \n",
    "                    )\n",
    "\n",
    "    trace_edge_text=dict(\n",
    "                    type='scatter',\n",
    "                     mode='text',\n",
    "                     x=Xm,\n",
    "                     y=Ym,\n",
    "                     text =df['Song_Name'],\n",
    "                     textfont=dict(\n",
    "                        family=\"sans serif\",\n",
    "                        size=11,\n",
    "                        color=\"LightSeaGreen\"\n",
    "                     ),\n",
    "                     textposition='bottom center',\n",
    "                     hoverinfo='text'\n",
    "\n",
    "    )\n",
    "\n",
    "    axis=dict(showline=False, # hide axis line, grid, ticklabels and  title\n",
    "              zeroline=False,\n",
    "              showgrid=False,\n",
    "              showticklabels=False,\n",
    "              title='' \n",
    "              )\n",
    "\n",
    "\n",
    "    layout=dict(title= title,  \n",
    "                font= dict(family='Balto'),\n",
    "                width=1000,\n",
    "                height=800,\n",
    "                autosize=False,\n",
    "                showlegend=False,\n",
    "                xaxis=axis,\n",
    "                yaxis=axis,\n",
    "                margin=dict(\n",
    "                l=40,\n",
    "                r=40,\n",
    "                b=85,\n",
    "                t=100,\n",
    "                pad=0,\n",
    "\n",
    "        ),\n",
    "        hovermode='closest',\n",
    "        plot_bgcolor='#efecea', #set background color            \n",
    "        )\n",
    "\n",
    "\n",
    "    fig = dict(data=[trace_edges, trace_nodes,trace_edge_text], layout=layout)\n",
    "\n",
    "    def make_annotations(pos, anno_text, font_size=14, font_color='rgb(10,10,10)'):\n",
    "        L=len(pos)\n",
    "        if len(anno_text)!=L:\n",
    "            raise ValueError('The lists pos and text must have the same len')\n",
    "        annotations = []\n",
    "        for k, key in zip(range(L), pos.keys()):\n",
    "            annotations.append(dict(text=anno_text[k], \n",
    "                                    x=pos[key][0], \n",
    "                                    y=pos[key][1],\n",
    "                                    xref='x1', yref='y1',\n",
    "                                    font=dict(color= font_color, size=font_size),\n",
    "                                    showarrow=False)\n",
    "                              )\n",
    "        return annotations  \n",
    "\n",
    "    fig['layout'].update(annotations=make_annotations(pos, labels))\n",
    "    \n",
    "    return fig\n",
    "\n"
   ]
  },
  {
   "cell_type": "code",
   "execution_count": 26,
   "metadata": {},
   "outputs": [
    {
     "data": {
      "text/html": [
       "<iframe id=\"igraph\" scrolling=\"no\" style=\"border:none;\" seamless=\"seamless\" src=\"https://plot.ly/~sunliwang102/276.embed\" height=\"800px\" width=\"1000px\"></iframe>"
      ],
      "text/plain": [
       "<chart_studio.tools.PlotlyDisplay object>"
      ]
     },
     "execution_count": 26,
     "metadata": {},
     "output_type": "execute_result"
    }
   ],
   "source": [
    "##############################\n",
    "####  kamada_kawai_layout ####\n",
    "##############################\n",
    "\n",
    "pos=nx.kamada_kawai_layout(G)\n",
    "title = 'MUSICIAN COLLABORATION NETWORK' + '<br>' + 'kamada_kawai_layout'\n",
    "fig = make_fig(pos, df, title)\n",
    "py.iplot(fig, file = 'MusicianCollaborationNetwork')"
   ]
  },
  {
   "cell_type": "code",
   "execution_count": 16,
   "metadata": {},
   "outputs": [
    {
     "data": {
      "text/html": [
       "<iframe id=\"igraph\" scrolling=\"no\" style=\"border:none;\" seamless=\"seamless\" src=\"https://plot.ly/~sunliwang102/260.embed\" height=\"800px\" width=\"1000px\"></iframe>"
      ],
      "text/plain": [
       "<chart_studio.tools.PlotlyDisplay object>"
      ]
     },
     "execution_count": 16,
     "metadata": {},
     "output_type": "execute_result"
    }
   ],
   "source": [
    "##############################\n",
    "####  Circular_layout ####\n",
    "##############################\n",
    "\n",
    "pos=nx.circular_layout(G)\n",
    "title = 'MUSICIAN COLLABORATION NETWORK' + '<br>' + 'Circular_layout'\n",
    "fig = make_fig(pos, df, title)\n",
    "py.iplot(fig, file = 'MusicianCollaborationNetwork')"
   ]
  },
  {
   "cell_type": "code",
   "execution_count": 20,
   "metadata": {},
   "outputs": [
    {
     "data": {
      "text/html": [
       "<iframe id=\"igraph\" scrolling=\"no\" style=\"border:none;\" seamless=\"seamless\" src=\"https://plot.ly/~sunliwang102/268.embed\" height=\"800px\" width=\"1000px\"></iframe>"
      ],
      "text/plain": [
       "<chart_studio.tools.PlotlyDisplay object>"
      ]
     },
     "execution_count": 20,
     "metadata": {},
     "output_type": "execute_result"
    }
   ],
   "source": [
    "########################\n",
    "####  Spring_layout ####\n",
    "########################\n",
    "\n",
    "pos=nx.spring_layout(G)\n",
    "title = 'MUSICIAN COLLABORATION NETWORK' + '<br>' + 'Spring_layout'\n",
    "fig = make_fig(pos, df, title)\n",
    "py.iplot(fig, file = 'MusicianCollaborationNetwork')"
   ]
  },
  {
   "cell_type": "code",
   "execution_count": 23,
   "metadata": {},
   "outputs": [
    {
     "data": {
      "text/html": [
       "<iframe id=\"igraph\" scrolling=\"no\" style=\"border:none;\" seamless=\"seamless\" src=\"https://plot.ly/~sunliwang102/274.embed\" height=\"800px\" width=\"1000px\"></iframe>"
      ],
      "text/plain": [
       "<chart_studio.tools.PlotlyDisplay object>"
      ]
     },
     "execution_count": 23,
     "metadata": {},
     "output_type": "execute_result"
    }
   ],
   "source": [
    "######################################\n",
    "#### fruchterman_reingold_layout #####\n",
    "######################################\n",
    "\n",
    "pos=nx.fruchterman_reingold_layout(G) \n",
    "title = 'MUSICIAN COLLABORATION NETWORK' + '<br>' + 'fruchterman_reingold_layout'\n",
    "fig = make_fig(pos, df, title)\n",
    "py.iplot(fig, file = 'MusicianCollaborationNetwork')"
   ]
  },
  {
   "cell_type": "code",
   "execution_count": 18,
   "metadata": {},
   "outputs": [
    {
     "data": {
      "text/html": [
       "<iframe id=\"igraph\" scrolling=\"no\" style=\"border:none;\" seamless=\"seamless\" src=\"https://plot.ly/~sunliwang102/264.embed\" height=\"800px\" width=\"1000px\"></iframe>"
      ],
      "text/plain": [
       "<chart_studio.tools.PlotlyDisplay object>"
      ]
     },
     "execution_count": 18,
     "metadata": {},
     "output_type": "execute_result"
    }
   ],
   "source": [
    "########################\n",
    "####  random_layout ####\n",
    "########################\n",
    "\n",
    "pos=nx.random_layout(G)\n",
    "title = 'MUSICIAN COLLABORATION NETWORK' + '<br>' + 'Random_layout'\n",
    "fig = make_fig(pos, df, title)\n",
    "py.iplot(fig, file = 'MusicianCollaborationNetwork')"
   ]
  },
  {
   "cell_type": "code",
   "execution_count": 22,
   "metadata": {},
   "outputs": [
    {
     "data": {
      "text/html": [
       "<iframe id=\"igraph\" scrolling=\"no\" style=\"border:none;\" seamless=\"seamless\" src=\"https://plot.ly/~sunliwang102/272.embed\" height=\"800px\" width=\"1000px\"></iframe>"
      ],
      "text/plain": [
       "<chart_studio.tools.PlotlyDisplay object>"
      ]
     },
     "execution_count": 22,
     "metadata": {},
     "output_type": "execute_result"
    }
   ],
   "source": [
    "##########################\n",
    "####  Spectral_layout ####\n",
    "##########################\n",
    "\n",
    "pos=nx.spectral_layout(G)\n",
    "title = 'MUSICIAN COLLABORATION NETWORK' + '<br>' + 'Spectral_layout'\n",
    "fig = make_fig(pos, df, title)\n",
    "py.iplot(fig, file = 'MusicianCollaborationNetwork')"
   ]
  },
  {
   "cell_type": "code",
   "execution_count": null,
   "metadata": {},
   "outputs": [],
   "source": []
  }
 ],
 "metadata": {
  "kernelspec": {
   "display_name": "Python 3",
   "language": "python",
   "name": "python3"
  },
  "language_info": {
   "codemirror_mode": {
    "name": "ipython",
    "version": 3
   },
   "file_extension": ".py",
   "mimetype": "text/x-python",
   "name": "python",
   "nbconvert_exporter": "python",
   "pygments_lexer": "ipython3",
   "version": "3.7.1"
  }
 },
 "nbformat": 4,
 "nbformat_minor": 2
}
