{
 "cells": [
  {
   "cell_type": "markdown",
   "metadata": {},
   "source": [
    "How to retrieve data from Twitter with Tweepy?"
   ]
  },
  {
   "cell_type": "code",
   "execution_count": null,
   "metadata": {},
   "outputs": [],
   "source": [
    "import tweepy \n",
    "import pandas as pd\n",
    "\n",
    "# You need to create a Twitter Developer Account to get the consumer keys and access tokens.\n",
    "# See this page for more details: https://sites.google.com/site/gsudatavis/home/notes-on-social-media-data-analysis-and-visualization\n",
    "auth = tweepy.OAuthHandler(\"API\", \"API secret\")\n",
    "auth.set_access_token(\"access token\", \"token serect\")\n",
    "\n",
    "api = tweepy.API(auth)\n",
    "\n",
    "# Get my and my friend's most recent tweets\n",
    "public_tweets = api.home_timeline()\n",
    "for tweet in public_tweets:\n",
    "    print(tweet.text)"
   ]
  },
  {
   "cell_type": "markdown",
   "metadata": {},
   "source": [
    "User based analysis"
   ]
  },
  {
   "cell_type": "code",
   "execution_count": null,
   "metadata": {},
   "outputs": [],
   "source": [
    "# Find user information \n",
    "user = api.get_user(\"GeorgiaStateU\")\n",
    "print(user.screen_name)\n",
    "print(user.followers_count)\n",
    "print(user.friends_count)\n",
    "print(user.location)"
   ]
  },
  {
   "cell_type": "markdown",
   "metadata": {},
   "source": [
    "Find friends and followers of a user and build an edge list, which can be used to create a social network diagram. "
   ]
  },
  {
   "cell_type": "code",
   "execution_count": null,
   "metadata": {},
   "outputs": [],
   "source": [
    "# Create an empty edge list\n",
    "edge_list = pd.DataFrame(columns = [\"source\", \"target\"])\n",
    "\n",
    "# Get a list of friends and friends of the friends\n",
    "gsu_friends = api.friends(\"GeorgiaStateU\")\n",
    "for friend in gsu_friends[0:5]: # Only retrieve the first 5 friends\n",
    "    print(friend.screen_name)\n",
    "    print(friend.location)\n",
    "    print(\"\\n\")\n",
    "    # Create an edge for this connection and add it to the edge list. \n",
    "    edge_list = edge_list.append({'source' : \"GeorgiaStateU\", 'target' : friend.screen_name} , ignore_index=True)    \n",
    "    # Get friends of the friend and create edges for the connections. \n",
    "    for friend_of_friend in api.friends(friend.screen_name)[0:5]: # Only retrieve the first 2 friends of the friend \n",
    "        edge_list = edge_list.append({'source' : friend.screen_name, 'target' : friend_of_friend.screen_name} , ignore_index=True)\n",
    "    \n",
    "edge_list"
   ]
  },
  {
   "cell_type": "code",
   "execution_count": null,
   "metadata": {},
   "outputs": [],
   "source": [
    "# Get a list of followers and follower of the followers\n",
    "gsu_followers = api.followers(\"GeorgiaStateU\")\n",
    "for follower in gsu_followers[0:5]:\n",
    "    #print(follower.screen_name)\n",
    "    #print(follower.location)\n",
    "    #print(\"\\n\")\n",
    "    \n",
    "    # Create an edge for this connection\n",
    "    edge_list = edge_list.append({'source' : follower.screen_name, 'target' : \"GeorgiaStateU\"} , ignore_index=True)\n",
    "    # Get followers of the follower and create edges for the connections. \n",
    "    for follower_of_follower in api.followers(follower.screen_name)[0:2]:\n",
    "        edge_list = edge_list.append({'source' : follower_of_follower.screen_name, 'target' : follower.screen_name} , ignore_index=True)\n",
    "    \n",
    "edge_list\n",
    "\n",
    "# You can use NetworkX function from_pandas_edgelist() to create a graph from the Pandas edge list. \n",
    "# For more details, see https://networkx.github.io/documentation/stable/reference/generated/networkx.convert_matrix.from_pandas_edgelist.html#networkx.convert_matrix.from_pandas_edgelist"
   ]
  },
  {
   "cell_type": "markdown",
   "metadata": {},
   "source": [
    "Content based analysis"
   ]
  },
  {
   "cell_type": "code",
   "execution_count": null,
   "metadata": {},
   "outputs": [],
   "source": [
    "# Retrieve a user's recent tweets \n",
    "gsu_tweets = api.user_timeline(\"GeorgiaStateU\")\n",
    "for tweet in gsu_tweets:\n",
    "    print(tweet.text)"
   ]
  },
  {
   "cell_type": "code",
   "execution_count": null,
   "metadata": {},
   "outputs": [],
   "source": [
    "# Check rate limits\n",
    "api.rate_limit_status()"
   ]
  },
  {
   "cell_type": "code",
   "execution_count": null,
   "metadata": {},
   "outputs": [],
   "source": [
    "# Get a user's favorites\n",
    "gsu_favorites = api.favorites(\"GeorgiaStateU\")\n",
    "for favorite in gsu_favorites:\n",
    "    print(favorite.text)"
   ]
  },
  {
   "cell_type": "code",
   "execution_count": null,
   "metadata": {},
   "outputs": [],
   "source": [
    "# Get available trends\n",
    "trends = api.trends_available()\n",
    "for trend in trends:\n",
    "    print(\"%s, woeid %s\" %(trend['name'], trend['woeid']))"
   ]
  },
  {
   "cell_type": "code",
   "execution_count": null,
   "metadata": {},
   "outputs": [],
   "source": [
    "# Find out what is trending at certain place. You need to use WOEID for identify a location. \n",
    "# Atlanta's woeid is 2357024\n",
    "# You can find some woeid at https://gist.github.com/lukemelia/353493 \n",
    "atl_trends = api.trends_place(2357024)\n",
    "\n",
    "# print(len(atl_trends[0]['trends']))\n",
    "\n",
    "# This will give you a list of keywords to search by. \n",
    "for trend in atl_trends[0]['trends']:\n",
    "    print(\"name: %s, tweet_volume: %s\" %(trend['name'], trend['tweet_volume']))\n"
   ]
  },
  {
   "cell_type": "markdown",
   "metadata": {},
   "source": [
    "Search tweets by keywords"
   ]
  },
  {
   "cell_type": "code",
   "execution_count": null,
   "metadata": {},
   "outputs": [],
   "source": [
    "# Search for a keyword and filter out retweets\n",
    "keyword = \"FaceApp\" + \" -filter:retweets\"\n",
    "since_when = \"2019-07-01\"\n",
    "\n",
    "tweets = tweepy.Cursor(api.search, q = keyword, \n",
    "                       lang=\"en\", since = since_when).items(20)\n",
    "\n",
    "# Print out text, user name, and location\n",
    "for tweet in tweets:\n",
    "    print(\"text: %s\" %(tweet.text))\n",
    "    print(\"screen_name: %s\" %(tweet.user.screen_name))\n",
    "    print(\"location: %s\\n\" %(tweet.user.location))"
   ]
  },
  {
   "cell_type": "markdown",
   "metadata": {},
   "source": [
    "1. Clean text\n",
    "2. Word frequency analysis\n",
    "3. Sentiment analysis"
   ]
  },
  {
   "cell_type": "code",
   "execution_count": null,
   "metadata": {},
   "outputs": [],
   "source": [
    "# Clean text with package \"cleantext\"\n",
    "# See https://pypi.org/project/clean-text/\n",
    "# pip install clean-text[gpl]\n",
    "\n",
    "from cleantext import clean\n",
    "\n",
    "# For removing stop words\n",
    "import nltk\n",
    "from nltk.corpus import stopwords\n",
    "\n",
    "# For frequency analysis\n",
    "import collections\n",
    "\n",
    "#pip install -U textblob\n",
    "# For sentiment analysis\n",
    "from textblob import TextBlob\n",
    "\n",
    "import pandas as pd\n",
    "\n",
    "# Search by keyword and time\n",
    "tweets = tweepy.Cursor(api.search, q = keyword, \n",
    "                       lang=\"en\", since = since_when).items(20)\n",
    "\n",
    "# Retrieve only texts\n",
    "tweet_text = [tweet.text for tweet in tweets]\n",
    "words = []\n",
    "\n",
    "# Clean text and split into words\n",
    "for i in range(len(tweet_text)):\n",
    "    #Before cleaning\n",
    "    print(\"%s\" %(tweet_text[i]))\n",
    "    \n",
    "    # Clean text with \"cleantext\"\n",
    "    tweet_text[i] = clean(tweet_text[i], \n",
    "                          no_urls=True, \n",
    "                          no_emails=True, \n",
    "                          no_numbers=True, \n",
    "                          no_phone_numbers=True,\n",
    "                          no_currency_symbols=True,\n",
    "                          no_line_breaks=True,\n",
    "                          no_punct=True,\n",
    "                          replace_with_url=\"\")\n",
    "    \n",
    "    #After cleaning\n",
    "    print(\"%s\\n\" %(tweet_text[i]))\n",
    "    \n",
    "    #Split string into words\n",
    "    words.append(tweet_text[i].split())\n",
    "    \n",
    "# Flatten the word list to do frequency test\n",
    "words = [y for x in words for y in x]\n",
    "\n",
    "# print(words)\n"
   ]
  },
  {
   "cell_type": "code",
   "execution_count": 126,
   "metadata": {},
   "outputs": [
    {
     "name": "stderr",
     "output_type": "stream",
     "text": [
      "[nltk_data] Downloading package stopwords to\n",
      "[nltk_data]     C:\\Users\\yingz\\AppData\\Roaming\\nltk_data...\n",
      "[nltk_data]   Package stopwords is already up-to-date!\n"
     ]
    },
    {
     "data": {
      "text/html": [
       "<div>\n",
       "<style scoped>\n",
       "    .dataframe tbody tr th:only-of-type {\n",
       "        vertical-align: middle;\n",
       "    }\n",
       "\n",
       "    .dataframe tbody tr th {\n",
       "        vertical-align: top;\n",
       "    }\n",
       "\n",
       "    .dataframe thead th {\n",
       "        text-align: right;\n",
       "    }\n",
       "</style>\n",
       "<table border=\"1\" class=\"dataframe\">\n",
       "  <thead>\n",
       "    <tr style=\"text-align: right;\">\n",
       "      <th></th>\n",
       "      <th>word</th>\n",
       "      <th>frequency</th>\n",
       "    </tr>\n",
       "  </thead>\n",
       "  <tbody>\n",
       "    <tr>\n",
       "      <th>0</th>\n",
       "      <td>faceapp</td>\n",
       "      <td>11</td>\n",
       "    </tr>\n",
       "    <tr>\n",
       "      <th>1</th>\n",
       "      <td>app</td>\n",
       "      <td>6</td>\n",
       "    </tr>\n",
       "    <tr>\n",
       "      <th>2</th>\n",
       "      <td>new</td>\n",
       "      <td>5</td>\n",
       "    </tr>\n",
       "    <tr>\n",
       "      <th>3</th>\n",
       "      <td>bill</td>\n",
       "      <td>4</td>\n",
       "    </tr>\n",
       "    <tr>\n",
       "      <th>4</th>\n",
       "      <td>would</td>\n",
       "      <td>4</td>\n",
       "    </tr>\n",
       "    <tr>\n",
       "      <th>5</th>\n",
       "      <td>make</td>\n",
       "      <td>4</td>\n",
       "    </tr>\n",
       "    <tr>\n",
       "      <th>6</th>\n",
       "      <td>online</td>\n",
       "      <td>4</td>\n",
       "    </tr>\n",
       "    <tr>\n",
       "      <th>7</th>\n",
       "      <td>sellers</td>\n",
       "      <td>4</td>\n",
       "    </tr>\n",
       "    <tr>\n",
       "      <th>8</th>\n",
       "      <td>stores</td>\n",
       "      <td>4</td>\n",
       "    </tr>\n",
       "    <tr>\n",
       "      <th>9</th>\n",
       "      <td>post</td>\n",
       "      <td>4</td>\n",
       "    </tr>\n",
       "  </tbody>\n",
       "</table>\n",
       "</div>"
      ],
      "text/plain": [
       "      word  frequency\n",
       "0  faceapp         11\n",
       "1      app          6\n",
       "2      new          5\n",
       "3     bill          4\n",
       "4    would          4\n",
       "5     make          4\n",
       "6   online          4\n",
       "7  sellers          4\n",
       "8   stores          4\n",
       "9     post          4"
      ]
     },
     "execution_count": 126,
     "metadata": {},
     "output_type": "execute_result"
    }
   ],
   "source": [
    "# Remove stop words\n",
    "nltk.download(\"stopwords\")\n",
    "stop_words = set(stopwords.words('english')) \n",
    "words = [w for w in words if not w in stop_words]\n",
    "\n",
    "# print(words)\n",
    "\n",
    "# Count word frequency\n",
    "word_counts = collections.Counter(words)\n",
    "\n",
    "# Create a dataframe from the word frequency count\n",
    "# Only get the top 10 frequently used words\n",
    "word_frequency = pd.DataFrame(word_counts.most_common(10), columns = [\"word\", \"frequency\"])\n",
    "word_frequency"
   ]
  },
  {
   "cell_type": "markdown",
   "metadata": {},
   "source": [
    "Use Seaborn to draw a word frequency chart"
   ]
  },
  {
   "cell_type": "code",
   "execution_count": 134,
   "metadata": {},
   "outputs": [
    {
     "data": {
      "text/plain": [
       "<matplotlib.axes._subplots.AxesSubplot at 0x2106b31ecc0>"
      ]
     },
     "execution_count": 134,
     "metadata": {},
     "output_type": "execute_result"
    },
    {
     "data": {
      "image/png": "[encoded data removed]",
      "text/plain": [
       "<Figure size 432x288 with 1 Axes>"
      ]
     },
     "metadata": {
      "needs_background": "light"
     },
     "output_type": "display_data"
    }
   ],
   "source": [
    "import seaborn as sns\n",
    "import matplotlib.pyplot as plt\n",
    "\n",
    "# Use Seaborn to draw a word frequency chart\n",
    "sns.barplot(x = \"word\", y = \"frequency\", data = word_frequency)"
   ]
  },
  {
   "cell_type": "code",
   "execution_count": 181,
   "metadata": {},
   "outputs": [
    {
     "data": {
      "text/plain": [
       "Text(0.5, 1.0, 'Sentiment index for the search result: FaceApp -filter:retweets')"
      ]
     },
     "execution_count": 181,
     "metadata": {},
     "output_type": "execute_result"
    },
    {
     "data": {
      "image/png": "[encoded data removed]",
      "text/plain": [
       "<Figure size 432x288 with 1 Axes>"
      ]
     },
     "metadata": {
      "needs_background": "light"
     },
     "output_type": "display_data"
    }
   ],
   "source": [
    "# Sentiment analysis with Textblob package. \n",
    "\n",
    "sentiment_objects = [TextBlob(tweet) for tweet in tweet_text]\n",
    "\n",
    "sentiment_values = [[tweet.sentiment.polarity, str(tweet)] for tweet in sentiment_objects]\n",
    "\n",
    "sentiment_df = pd.DataFrame(sentiment_values, columns=[\"polarity\", \"tweet\"])\n",
    "\n",
    "# sentiment_df.head()\n",
    "\n",
    "# Use Seaborn to draw a lineplot of the sentiment indices\n",
    "fig = sns.lineplot(x = range(len(sentiment_df)), y=\"polarity\", data = sentiment_df)\n",
    "plt.setp(fig, xticks = range(len(sentiment_df)))\n",
    "plt.xlabel(\"tweets\")\n",
    "plt.title(\"Sentiment index for the search result: \" + keyword)"
   ]
  },
  {
   "cell_type": "markdown",
   "metadata": {},
   "source": [
    "How to retrieve data from YouTube with Pytube?"
   ]
  },
  {
   "cell_type": "code",
   "execution_count": 62,
   "metadata": {},
   "outputs": [],
   "source": [
    "from pytube import YouTube"
   ]
  },
  {
   "cell_type": "code",
   "execution_count": 69,
   "metadata": {},
   "outputs": [],
   "source": [
    "yt = YouTube(\"https://www.youtube.com/watch?v=MtCMtC50gwY\")"
   ]
  },
  {
   "cell_type": "code",
   "execution_count": 70,
   "metadata": {},
   "outputs": [
    {
     "data": {
      "text/plain": [
       "'New York City Vacation Travel Guide | Expedia'"
      ]
     },
     "execution_count": 70,
     "metadata": {},
     "output_type": "execute_result"
    }
   ],
   "source": [
    "yt.title"
   ]
  },
  {
   "cell_type": "code",
   "execution_count": 65,
   "metadata": {},
   "outputs": [
    {
     "data": {
      "text/plain": [
       "'214435'"
      ]
     },
     "execution_count": 65,
     "metadata": {},
     "output_type": "execute_result"
    }
   ],
   "source": [
    "yt.views"
   ]
  },
  {
   "cell_type": "code",
   "execution_count": 66,
   "metadata": {},
   "outputs": [
    {
     "data": {
      "text/plain": [
       "4.9205046"
      ]
     },
     "execution_count": 66,
     "metadata": {},
     "output_type": "execute_result"
    }
   ],
   "source": [
    "yt.rating"
   ]
  },
  {
   "cell_type": "code",
   "execution_count": null,
   "metadata": {},
   "outputs": [],
   "source": [
    "yt.streams.all()"
   ]
  },
  {
   "cell_type": "code",
   "execution_count": null,
   "metadata": {},
   "outputs": [],
   "source": [
    "yt.streams.first()"
   ]
  },
  {
   "cell_type": "code",
   "execution_count": 72,
   "metadata": {},
   "outputs": [
    {
     "data": {
      "text/plain": [
       "[<Caption lang=\"Chinese (Hong Kong)\" code=\"zh-HK\">,\n",
       " <Caption lang=\"Chinese (Taiwan)\" code=\"zh-TW\">,\n",
       " <Caption lang=\"Danish\" code=\"da\">,\n",
       " <Caption lang=\"Dutch\" code=\"nl\">,\n",
       " <Caption lang=\"Dutch (Belgium)\" code=\"nl-BE\">,\n",
       " <Caption lang=\"English\" code=\"en\">,\n",
       " <Caption lang=\"English (auto-generated)\" code=\"en\">,\n",
       " <Caption lang=\"French\" code=\"fr\">,\n",
       " <Caption lang=\"French (Belgium)\" code=\"fr-BE\">,\n",
       " <Caption lang=\"French (Canada)\" code=\"fr-CA\">,\n",
       " <Caption lang=\"German\" code=\"de\">,\n",
       " <Caption lang=\"Indonesian\" code=\"id\">,\n",
       " <Caption lang=\"Italian\" code=\"it\">,\n",
       " <Caption lang=\"Japanese\" code=\"ja\">,\n",
       " <Caption lang=\"ko-KR\" code=\"ko-KR\">,\n",
       " <Caption lang=\"Norwegian\" code=\"no\">,\n",
       " <Caption lang=\"Portuguese (Brazil)\" code=\"pt-BR\">,\n",
       " <Caption lang=\"Spanish (Mexico)\" code=\"es-MX\">,\n",
       " <Caption lang=\"Spanish (Spain)\" code=\"es-ES\">,\n",
       " <Caption lang=\"Swedish\" code=\"sv\">,\n",
       " <Caption lang=\"Thai\" code=\"th\">,\n",
       " <Caption lang=\"Vietnamese\" code=\"vi\">]"
      ]
     },
     "execution_count": 72,
     "metadata": {},
     "output_type": "execute_result"
    }
   ],
   "source": [
    "# Get all the captions \n",
    "yt.captions.all()"
   ]
  },
  {
   "cell_type": "code",
   "execution_count": 73,
   "metadata": {},
   "outputs": [],
   "source": [
    "# Get the caption in English\n",
    "caption = yt.captions.get_by_language_code(\"en\")"
   ]
  },
  {
   "cell_type": "code",
   "execution_count": null,
   "metadata": {},
   "outputs": [],
   "source": [
    "# Display the captions in XML, which is not easy to read. \n",
    "caption.xml_captions"
   ]
  },
  {
   "cell_type": "code",
   "execution_count": null,
   "metadata": {},
   "outputs": [],
   "source": [
    "# Get the captions in the more readable SRT format (see https://www.speechpad.com/captions/srt). \n",
    "caption_srt = caption.generate_srt_captions()\n",
    "\n",
    "print(caption_srt)\n",
    "\n",
    "#save the caption to a file named Output.txt\n",
    "text_file = open(\"YouTube_caption.txt\", \"w\")\n",
    "text_file.write(caption_srt)\n",
    "text_file.close()"
   ]
  },
  {
   "cell_type": "code",
   "execution_count": null,
   "metadata": {},
   "outputs": [],
   "source": [
    "# Create a dataframe with indices, time, and texts in separate columns. \n",
    "\n",
    "#Split SRT file into lines.\n",
    "caption_lines = caption_srt.splitlines()\n",
    "# print(caption_lines)\n",
    "\n",
    "#Create a nested list so we can create data frame out of it. \n",
    "nested = []\n",
    "#There are four lines for each item on the list. \n",
    "num_lines_per_item = 4\n",
    "for ix in range(0, len(caption_lines) - num_lines_per_item, num_lines_per_item):\n",
    "    nested.append(caption_lines[ix:ix + num_lines_per_item])\n",
    "    \n",
    "print(nested)"
   ]
  },
  {
   "cell_type": "code",
   "execution_count": null,
   "metadata": {},
   "outputs": [],
   "source": [
    "import pandas as pd\n",
    "\n",
    "# Create a data frame of the captions\n",
    "caption_df = pd.DataFrame(nested, columns = [\"index\", \"time\", \"text\", \"line_break\"])\n",
    "\n",
    "# Delete the the last column because it's empty. \n",
    "caption_df = caption_df.drop(columns = [\"line_break\"])\n",
    "\n",
    "# Now we have a dataframe with three columns: index, time, and text. \n",
    "caption_df"
   ]
  },
  {
   "cell_type": "code",
   "execution_count": null,
   "metadata": {},
   "outputs": [],
   "source": [
    "Sentiment analysis with TextBlob"
   ]
  },
  {
   "cell_type": "code",
   "execution_count": null,
   "metadata": {},
   "outputs": [],
   "source": [
    "#pip install -U textblob\n",
    "from textblob import TextBlob\n",
    "\n",
    "# Send the text to TextBlob for sentiment analysis\n",
    "sentiment_objects = [TextBlob(caption) for caption in caption_df[\"text\"]]\n",
    "\n",
    "# Retrieve sentiment values\n",
    "sentiment_values = [[sentiment_obj.sentiment.polarity, str(sentiment_obj)] for sentiment_obj in sentiment_objects]\n",
    "\n",
    "# Add a \"polarity\" column to the dataframe\n",
    "caption_df[\"polarity\"] = [sentiment_obj.sentiment.polarity for sentiment_obj in sentiment_objects]\n",
    "\n",
    "caption_df"
   ]
  },
  {
   "cell_type": "markdown",
   "metadata": {},
   "source": [
    "Use Seaborn to draw a sentiment timeline. "
   ]
  },
  {
   "cell_type": "code",
   "execution_count": 179,
   "metadata": {},
   "outputs": [
    {
     "data": {
      "text/plain": [
       "Text(0.5, 1.0, 'Sentiment index for YouTube Video: New York City Vacation Travel Guide | Expedia')"
      ]
     },
     "execution_count": 179,
     "metadata": {},
     "output_type": "execute_result"
    },
    {
     "data": {
      "image/png": "[encoded data removed]",
      "text/plain": [
       "<Figure size 432x288 with 1 Axes>"
      ]
     },
     "metadata": {
      "needs_background": "light"
     },
     "output_type": "display_data"
    }
   ],
   "source": [
    "import seaborn as sns\n",
    "import matplotlib.pyplot as plt\n",
    "\n",
    "fig = sns.lineplot(x = \"index\", y=\"polarity\", data = caption_df)\n",
    "plt.setp(fig, xticks = []) # Remove the X ticks because it's too crowded. \n",
    "plt.xlabel(\"time\")\n",
    "plt.title(\"Sentiment index for YouTube Video: \" + yt.title)"
   ]
  },
  {
   "cell_type": "code",
   "execution_count": null,
   "metadata": {},
   "outputs": [],
   "source": []
  }
 ],
 "metadata": {
  "kernelspec": {
   "display_name": "Python 3",
   "language": "python",
   "name": "python3"
  },
  "language_info": {
   "codemirror_mode": {
    "name": "ipython",
    "version": 3
   },
   "file_extension": ".py",
   "mimetype": "text/x-python",
   "name": "python",
   "nbconvert_exporter": "python",
   "pygments_lexer": "ipython3",
   "version": "3.7.3"
  }
 },
 "nbformat": 4,
 "nbformat_minor": 2
}
